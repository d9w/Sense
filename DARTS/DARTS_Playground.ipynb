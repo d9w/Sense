{
 "cells": [
  {
   "cell_type": "code",
   "execution_count": 171,
   "metadata": {
    "scrolled": false
   },
   "outputs": [
    {
     "name": "stdout",
     "output_type": "stream",
     "text": [
      "[-2.913690576735439, 1.680096213816824, 0.28042594828394396, -0.20710286855489635, -3.458704953473351]Params([[-1.2923018139015066 -2.2762971566738424 -0.31915387059863726 -2.7097659855963068 -0.1865685189189666 0.8317019826253725 -0.28357050613329476 1.2727100783039857 1.6656613179392814 0.30945257206772014; 0.6584070971804954 -0.3381003813811993 -0.7865215899936169 -0.030493177819733958 0.027940318651576784 -0.17310197606310698 0.10216988430682783 0.6101148544467195 0.44822384200756726 0.06897801389836204; 0.8664252004755161 -0.07319829870689396 -0.7084270694064926 0.7178162882414111 1.4102572352412897 -0.4629203003660491 0.5454456984656663 0.03033769404470417 0.008790878569853168 0.29741717649553673; -1.2524609409763776 0.6527657315311807 0.40147194756281035 1.921955586120817 -0.7476380692320742 -1.07260751998132 -1.306146115125514 1.5142744743849161 0.9251027949558233 0.4496975092754528; -1.5066804990162048 0.7415027539072672 1.6553568289815837 -1.6466128542968894 -1.3501766226278318 0.33144862448256 0.7709348602898954 -2.113856132023423 -0.12203945760089563 -0.08906300450088515], [-2.1211981652604526, 1.261654549050395, -1.1573141454351696, -0.41329227495557697, -1.0614554347542664]])"
     ]
    }
   ],
   "source": [
    "struct Affine\n",
    "  W\n",
    "  b\n",
    "end\n",
    "\n",
    "Affine(in::Integer, out::Integer) =\n",
    "  Affine(randn(out, in), randn(out))\n",
    "\n",
    "# Overload call, so the object can be used as a function\n",
    "(m::Affine)(x) = m.W * x .+ m.b\n",
    "\n",
    "Flux.@functor Affine\n",
    "\n",
    "a = Affine(10, 5)\n",
    "\n",
    "print(a(rand(10))) # => 5-element vector\n",
    "\n",
    "print(params(a))"
   ]
  },
  {
   "cell_type": "code",
   "execution_count": 10,
   "metadata": {},
   "outputs": [],
   "source": [
    "\n",
    "using Statistics\n",
    "#using CuArrays\n",
    "using Random\n",
    "using Zygote\n",
    "using Flux, Flux.Optimise\n",
    "using Metalhead, Images\n",
    "using Metalhead: trainimgs\n",
    "using Images.ImageCore\n",
    "using Flux: onehotbatch, onecold\n",
    "using Base.Iterators: partition\n"
   ]
  },
  {
   "cell_type": "code",
   "execution_count": 164,
   "metadata": {
    "scrolled": true
   },
   "outputs": [
    {
     "data": {
      "text/plain": [
       "Zero (generic function with 1 method)"
      ]
     },
     "execution_count": 164,
     "metadata": {},
     "output_type": "execute_result"
    }
   ],
   "source": [
    "ReLUConvBN(C_in, C_out, kernel_size, stride, pad) = Chain(\n",
    "    relu,\n",
    "    Conv(kernel_size, C_in->C_out, pad=pad, stride=stride),\n",
    "    BatchNorm(C_out))\n",
    "\n",
    "FactorizedReduce(C_in, C_out, stride) = Chain(\n",
    "    relu,\n",
    "    Chain(x -> (Conv((1,1), C_in->C_out//stride, pad=0, stride=stride)(x),\n",
    "            Conv((1,1), C_in->C_out//stride, pad=0, stride=stride)(x[:,:,2:end,2:end])),\n",
    "         ((x1,x2)::Tuple) -> cat(x1,x2,dims=1)), #or dims=2?\n",
    "    BatchNorm(C_out))\n",
    "\n",
    "SepConv(C_in, C_out, kernel_size, stride, pad) = Chain(\n",
    "    relu,\n",
    "    DepthwiseConv(kernel_size, C_in=>C_in, stride=stride, pad=pad), \n",
    "    Conv(kernel_size, C_in->C_in, pad=0),\n",
    "    BatchNorm(C_in),\n",
    "    relu,\n",
    "    DepthwiseConv(kernel_size, C_in=>C_in, pad=pad, stride=stride), \n",
    "    Conv(kernel_size, C_in->C_out, pad=0),\n",
    "    BatchNorm(C_out))\n",
    "\n",
    "DilConv(C_in, C_out, kernel_size, stride, pad, dilation) = Chain(\n",
    "    relu,\n",
    "    DepthwiseConv(kernel_size, C_in=>C_in, pad=pad, stride=stride, dilation=dilation), \n",
    "    Conv(kernel_size, C_in->C_out, pad=0),\n",
    "    BatchNorm(C_out))\n",
    "\n",
    "Identity() = Chain(x -> x)\n",
    "Zero(stride) = Chain(x -> x[:,:,1:end:stride,1:end:stride]*0)\n"
   ]
  },
  {
   "cell_type": "code",
   "execution_count": 165,
   "metadata": {},
   "outputs": [
    {
     "data": {
      "text/plain": [
       "Dict{String,Function} with 5 entries:\n",
       "  \"conv_7x1_1x7\" => #702\n",
       "  \"none\"         => #694\n",
       "  \"avg_pool_3x3\" => #696\n",
       "  \"skip_connect\" => #700\n",
       "  \"max_pool_3x3\" => #698"
      ]
     },
     "execution_count": 165,
     "metadata": {},
     "output_type": "execute_result"
    }
   ],
   "source": [
    "PRIMITIVES = [\n",
    "    \"none\",\n",
    "    \"max_pool_3x3\",\n",
    "    \"avg_pool_3x3\",\n",
    "    \"skip_connect\",\n",
    "    #\"sep_conv_3x3\",\n",
    "    #\"sep_conv_5x5\",\n",
    "    #\"dil_conv_3x3\",\n",
    "    #\"dil_conv_5x5\"\n",
    "]\n",
    "\n",
    "\n",
    "\n",
    "OPS = Dict(\n",
    "  \"none\" => (C, stride, w) -> Chain(Zero(stride),x->w.*x),\n",
    "  \"avg_pool_3x3\" => (C, stride, w) -> Chain(MeanPool((3,3), stride=stride, pad=1), BatchNorm(C), x->w.*x),\n",
    "  \"max_pool_3x3\" => (C, stride, w) -> Chain(MaxPool((3,3), stride=stride, pad=1), BatchNorm(C), x->w.*x),\n",
    "  #\"skip_connect\" => (C, stride, w) -> Chain(stride == 1 ? Identity() : FactorizedReduce(C, C), x->w.*x),\n",
    "  \"skip_connect\" => (C, stride, w) -> Chain(FactorizedReduce(C, C, stride), x->w.*x),\n",
    "  #\"sep_conv_3x3\" => (C, stride)-> SepConv(C, C, 3, stride, 1),\n",
    "  #\"sep_conv_5x5\" => (C, stride)-> SepConv(C, C, 5, stride, 2),\n",
    "  #\"sep_conv_7x7\" => (C, stride)-> SepConv(C, C, 7, stride, 3),\n",
    "  #\"dil_conv_3x3\" => (C, stride)-> DilConv(C, C, 3, stride, 2, 2),\n",
    "  #\"dil_conv_5x5\" => (C, stride)-> DilConv(C, C, 5, stride, 4, 2),\n",
    "  \"conv_7x1_1x7\" => (C, stride, w) -> Chain(\n",
    "                                        relu,\n",
    "                                        Conv((1,7), C->C, pad=(0,3), stride=(1,stride)), \n",
    "                                        Conv((7,1), C->C, pad=(3,0), stride=(stride,1)),\n",
    "                                        BatchNorm(C_out),\n",
    "                                        x->w.*x)\n",
    "    )\n",
    "            \n"
   ]
  },
  {
   "cell_type": "code",
   "execution_count": 172,
   "metadata": {},
   "outputs": [
    {
     "ename": "MethodError",
     "evalue": "MethodError: no method matching fieldnames(::typeof(MixedOp))\nClosest candidates are:\n  fieldnames(!Matched::Core.TypeofBottom) at reflection.jl:175\n  fieldnames(!Matched::Type{#s8} where #s8<:Tuple) at reflection.jl:177\n  fieldnames(!Matched::DataType) at reflection.jl:172\n  ...",
     "output_type": "error",
     "traceback": [
      "MethodError: no method matching fieldnames(::typeof(MixedOp))\nClosest candidates are:\n  fieldnames(!Matched::Core.TypeofBottom) at reflection.jl:175\n  fieldnames(!Matched::Type{#s8} where #s8<:Tuple) at reflection.jl:177\n  fieldnames(!Matched::DataType) at reflection.jl:172\n  ...",
      "",
      "Stacktrace:",
      " [1] makefunctor(::Module, ::Function) at /Users/kaitlinmaile/.julia/packages/Flux/NpkMm/src/functor.jl:13",
      " [2] top-level scope at In[172]:11"
     ]
    }
   ],
   "source": [
    "function MixedOp(C, stride, weights)\n",
    "    ops_ = Any[]\n",
    "    for i in 1:length(PRIMITIVES)\n",
    "        op = OPS[PRIMITIVES[i]](C, stride, weights[i])\n",
    "        println(PRIMITIVES[i], params(op))\n",
    "        append!(ops_, op)\n",
    "    end\n",
    "    x -> sum.(map((f)->f(x), ops_)) #figure out how to get params to persist through the addition?\n",
    "    return ops_[1]\n",
    "end\n",
    "Flux.@functor MixedOp\n",
    "\n",
    "m = MixedOp(16,1,[1,2,3,4,5,6])\n",
    "print(params(m))\n"
   ]
  },
  {
   "cell_type": "code",
   "execution_count": 175,
   "metadata": {},
   "outputs": [
    {
     "name": "stdout",
     "output_type": "stream",
     "text": [
      "noneParams([])\n",
      "max_pool_3x3Params([Float32[0.0, 0.0, 0.0, 0.0, 0.0, 0.0, 0.0, 0.0, 0.0, 0.0, 0.0, 0.0, 0.0, 0.0, 0.0, 0.0], Float32[1.0, 1.0, 1.0, 1.0, 1.0, 1.0, 1.0, 1.0, 1.0, 1.0, 1.0, 1.0, 1.0, 1.0, 1.0, 1.0]])\n",
      "avg_pool_3x3Params([Float32[0.0, 0.0, 0.0, 0.0, 0.0, 0.0, 0.0, 0.0, 0.0, 0.0, 0.0, 0.0, 0.0, 0.0, 0.0, 0.0], Float32[1.0, 1.0, 1.0, 1.0, 1.0, 1.0, 1.0, 1.0, 1.0, 1.0, 1.0, 1.0, 1.0, 1.0, 1.0, 1.0]])\n",
      "skip_connectParams([Float32[0.0, 0.0, 0.0, 0.0, 0.0, 0.0, 0.0, 0.0, 0.0, 0.0, 0.0, 0.0, 0.0, 0.0, 0.0, 0.0], Float32[1.0, 1.0, 1.0, 1.0, 1.0, 1.0, 1.0, 1.0, 1.0, 1.0, 1.0, 1.0, 1.0, 1.0, 1.0, 1.0]])\n",
      "Params([[1, 2, 3, 4, 5, 6], Float32[0.0, 0.0, 0.0, 0.0, 0.0, 0.0, 0.0, 0.0, 0.0, 0.0, 0.0, 0.0, 0.0, 0.0, 0.0, 0.0], Float32[1.0, 1.0, 1.0, 1.0, 1.0, 1.0, 1.0, 1.0, 1.0, 1.0, 1.0, 1.0, 1.0, 1.0, 1.0, 1.0], Float32[0.0, 0.0, 0.0, 0.0, 0.0, 0.0, 0.0, 0.0, 0.0, 0.0, 0.0, 0.0, 0.0, 0.0, 0.0, 0.0], Float32[1.0, 1.0, 1.0, 1.0, 1.0, 1.0, 1.0, 1.0, 1.0, 1.0, 1.0, 1.0, 1.0, 1.0, 1.0, 1.0], Float32[0.0, 0.0, 0.0, 0.0, 0.0, 0.0, 0.0, 0.0, 0.0, 0.0, 0.0, 0.0, 0.0, 0.0, 0.0, 0.0], Float32[1.0, 1.0, 1.0, 1.0, 1.0, 1.0, 1.0, 1.0, 1.0, 1.0, 1.0, 1.0, 1.0, 1.0, 1.0, 1.0]])"
     ]
    }
   ],
   "source": [
    "struct MixedOp_\n",
    "    weights\n",
    "    ops\n",
    "end\n",
    "\n",
    "function MixedOp_(C, stride, weights)\n",
    "    ops = Any[]\n",
    "    for i in 1:length(PRIMITIVES)\n",
    "        op = OPS[PRIMITIVES[i]](C, stride, weights[i])\n",
    "        println(PRIMITIVES[i], params(op))\n",
    "        append!(ops, op)\n",
    "    end\n",
    "    MixedOp_(weights, ops)\n",
    "end\n",
    "(m::MixedOp_)(x) = m.weights'*[op(x) for op in m.ops]\n",
    "Flux.@functor MixedOp_\n",
    "\n",
    "m = MixedOp_(16,1,[1,2,3,4,5,6])\n",
    "print(params(m))\n"
   ]
  },
  {
   "cell_type": "code",
   "execution_count": 167,
   "metadata": {},
   "outputs": [
    {
     "ename": "MethodError",
     "evalue": "MethodError: no method matching Conv(::Tuple{Int64,Int64}, ::var\"#674#675\"{Int64}; pad=0, stride=1)\nClosest candidates are:\n  Conv(::F, ::A, !Matched::V, !Matched::Tuple{Vararg{Int64,N}}, !Matched::Tuple{Vararg{Int64,M}}, !Matched::Tuple{Vararg{Int64,N}}) where {N, M, F, A, V} at /Users/kaitlinmaile/.julia/packages/Flux/NpkMm/src/layers/conv.jl:32 got unsupported keyword arguments \"pad\", \"stride\"\n  Conv(::Tuple{Vararg{Integer,N}}, !Matched::Pair{#s105,#s98} where #s98<:Integer where #s105<:Integer) where N at /Users/kaitlinmaile/.julia/packages/Flux/NpkMm/src/layers/conv.jl:49 got unsupported keyword arguments \"pad\", \"stride\"\n  Conv(::Tuple{Vararg{Integer,N}}, !Matched::Pair{#s97,#s35} where #s35<:Integer where #s97<:Integer, !Matched::Any; init, stride, pad, dilation) where N at /Users/kaitlinmaile/.julia/packages/Flux/NpkMm/src/layers/conv.jl:49",
     "output_type": "error",
     "traceback": [
      "MethodError: no method matching Conv(::Tuple{Int64,Int64}, ::var\"#674#675\"{Int64}; pad=0, stride=1)\nClosest candidates are:\n  Conv(::F, ::A, !Matched::V, !Matched::Tuple{Vararg{Int64,N}}, !Matched::Tuple{Vararg{Int64,M}}, !Matched::Tuple{Vararg{Int64,N}}) where {N, M, F, A, V} at /Users/kaitlinmaile/.julia/packages/Flux/NpkMm/src/layers/conv.jl:32 got unsupported keyword arguments \"pad\", \"stride\"\n  Conv(::Tuple{Vararg{Integer,N}}, !Matched::Pair{#s105,#s98} where #s98<:Integer where #s105<:Integer) where N at /Users/kaitlinmaile/.julia/packages/Flux/NpkMm/src/layers/conv.jl:49 got unsupported keyword arguments \"pad\", \"stride\"\n  Conv(::Tuple{Vararg{Integer,N}}, !Matched::Pair{#s97,#s35} where #s35<:Integer where #s97<:Integer, !Matched::Any; init, stride, pad, dilation) where N at /Users/kaitlinmaile/.julia/packages/Flux/NpkMm/src/layers/conv.jl:49",
      "",
      "Stacktrace:",
      " [1] ReLUConvBN(::Int64, ::Int64, ::Tuple{Int64,Int64}, ::Int64, ::Int64) at ./In[164]:1",
      " [2] Cell(::Int64, ::Int64, ::Int64, ::Bool, ::Bool, ::Int64, ::Int64) at ./In[167]:5",
      " [3] Cell(::Int64, ::Int64, ::Int64, ::Bool, ::Bool) at ./In[167]:2",
      " [4] top-level scope at In[167]:25"
     ]
    }
   ],
   "source": [
    "function Cell(C_pp, C_p, C, red, red_p, steps = 4, multiplier = 4) \n",
    "    if red_p\n",
    "        p0 = FactorizedReduce(C_pp,C)\n",
    "    else\n",
    "        p0 = ReLUConvBN(C_pp,C,(1,1),1,0)\n",
    "    end\n",
    "    p1 = ReLUConvBN(C_p,C,(1,1),1,0)\n",
    "    ops_ = Any[]\n",
    "    for i = 1:steps\n",
    "       for j = 1:2+i\n",
    "            red && j < 2 ? stride = 2 : stride = 1\n",
    "            op = MixedOp(C, stride, weights)\n",
    "            append!(ops_, op)\n",
    "        end\n",
    "    end\n",
    "    states = [p0, p1]\n",
    "    offset = 0\n",
    "    for i = 1:steps\n",
    "        s = sum(ops_[offset+j](states[j], weights[offset+j]) for j=1:length(states))\n",
    "        offset += length(states)\n",
    "        append!(states, s)\n",
    "    end\n",
    "    return cat(states[end-multiplier:end],dims=1)\n",
    "end\n",
    "print(Cell(16, 16, 16, false, false))"
   ]
  },
  {
   "cell_type": "code",
   "execution_count": 8,
   "metadata": {},
   "outputs": [
    {
     "ename": "UndefVarError",
     "evalue": "UndefVarError: C not defined",
     "output_type": "error",
     "traceback": [
      "UndefVarError: C not defined",
      "",
      "Stacktrace:",
      " [1] top-level scope at In[8]:3"
     ]
    }
   ],
   "source": [
    "function Network(C = 16, num_classes, layers = 8, auxiliary, genotype)\n",
    "    stem_mult = 3\n",
    "    C_c = C*stem_mult\n",
    "    stem = Chain(\n",
    "        Conv((3,3), 3=>C_c, pad=1),\n",
    "        BatchNorm(C_c)) \n",
    "    C_pp = C_c\n",
    "    C_p = C_c\n",
    "    C_c = C\n",
    "    red_p = 0\n",
    "    cells = []\n",
    "    for i = 1:layers\n",
    "        if i == layers//3 || i == 2*layers//3\n",
    "            C_c = C_c*2\n",
    "            red = 1\n",
    "        else\n",
    "            red = 0\n",
    "        end\n",
    "        cell = Cell(genotype, C_pp, C_p, C_c, red, red_p)\n",
    "        red_p = reduction\n",
    "        #model = cell(model)\n",
    "        C_pp = C_p\n",
    "        C_p = 4*C_c #4 is lenght of DARTS_V1 concat\n",
    "        if i == 2*layers//3\n",
    "            C_aux = C_p\n",
    "        end\n",
    "        push(cells, cell)\n",
    "    end\n",
    "\n",
    "    aux = Chain(\n",
    "        relu,\n",
    "        MeanPool((5,5), pad = 0, stride = 3),\n",
    "        Conv((1,1), C_aux=>128), #or (1,1)?\n",
    "        BatchNorm(128), #also check 2d here\n",
    "        relu,\n",
    "        Conv((2,2), 128=>768),\n",
    "        BatchNorm(768),\n",
    "        relu,\n",
    "        x -> reshape(x, size(x, 1), :)\n",
    "        Dense(768, num_classes),\n",
    "        softmax)\n",
    "    s0 = stem\n",
    "    s1 = stem\n",
    "    for i = 1:layers\n",
    "        st = s1\n",
    "        s1 = SkipConnection()\n",
    "        s0 = s1\n",
    "    end\n",
    "#end\n"
   ]
  },
  {
   "cell_type": "code",
   "execution_count": 22,
   "metadata": {},
   "outputs": [
    {
     "name": "stderr",
     "output_type": "stream",
     "text": [
      "┌ Warning: `param(x)` is deprecated, use `x` instead.\n",
      "│   caller = top-level scope at In[22]:5\n",
      "└ @ Core In[22]:5\n"
     ]
    },
    {
     "data": {
      "text/plain": [
       "14×8 Array{Float64,2}:\n",
       "  0.000153267   0.000634775  -0.000164228  …  -0.000421828  -0.000776927\n",
       " -0.000260666  -0.000511411   0.000472484      0.000838265  -0.000937686\n",
       " -6.05028e-5    0.00018293   -0.000956047      0.000114242  -0.000658536\n",
       " -0.0003835    -0.00038668    0.00074686       0.000361253   0.000700757\n",
       " -0.000182973  -0.000890508  -0.000147963     -0.000146242  -0.0007517  \n",
       "  0.000301192   0.000294017   0.000295519  …   0.000408355  -0.000269865\n",
       " -0.000797601   0.000854824   0.000624226     -0.000202568  -0.000152444\n",
       " -0.000817315   8.84927e-5    0.000803706      0.000890579   0.00083269 \n",
       "  0.00045419   -6.91202e-5   -0.000495705      0.000982274  -0.000351069\n",
       " -0.000635853  -0.000156947  -0.000268975      0.000257073  -0.000141543\n",
       " -0.000351192   0.000265662   0.000614981  …  -0.000373631   9.80051e-5 \n",
       "  7.90159e-6   -0.000695606   0.00072325       0.000468461   0.000247455\n",
       "  8.47082e-5    0.000716898  -0.000567972      0.000853076   0.000238744\n",
       "  0.000139008   0.000530571   0.000608063      0.000167495   0.000193463"
      ]
     },
     "execution_count": 22,
     "metadata": {},
     "output_type": "execute_result"
    }
   ],
   "source": [
    "steps = 4\n",
    "k = floor(Int, steps^2/2+3*steps/2)\n",
    "num_ops = length(PRIMITIVES)\n",
    "typeof(k)\n",
    "α_normal = param(2e-3*(rand(k,num_ops) .- 0.5))\n",
    "α_reduce = param(2e-3*(rand(k,num_ops) .- 0.5))"
   ]
  },
  {
   "cell_type": "code",
   "execution_count": 9,
   "metadata": {},
   "outputs": [
    {
     "ename": "MethodError",
     "evalue": "MethodError: no method matching Momentum(::typeof(params); η=0.01, ρ=0.9)\nClosest candidates are:\n  Momentum(::Any) at /Users/kaitlinmaile/.julia/packages/Flux/NpkMm/src/optimise/optimisers.jl:64 got unsupported keyword arguments \"η\", \"ρ\"\n  Momentum(::Any, !Matched::Any) at /Users/kaitlinmaile/.julia/packages/Flux/NpkMm/src/optimise/optimisers.jl:64 got unsupported keyword arguments \"η\", \"ρ\"\n  Momentum(::Any, !Matched::Any, !Matched::Any) at /Users/kaitlinmaile/.julia/packages/Flux/NpkMm/src/optimise/optimisers.jl:59 got unsupported keyword arguments \"η\", \"ρ\"\n  ...",
     "output_type": "error",
     "traceback": [
      "MethodError: no method matching Momentum(::typeof(params); η=0.01, ρ=0.9)\nClosest candidates are:\n  Momentum(::Any) at /Users/kaitlinmaile/.julia/packages/Flux/NpkMm/src/optimise/optimisers.jl:64 got unsupported keyword arguments \"η\", \"ρ\"\n  Momentum(::Any, !Matched::Any) at /Users/kaitlinmaile/.julia/packages/Flux/NpkMm/src/optimise/optimisers.jl:64 got unsupported keyword arguments \"η\", \"ρ\"\n  Momentum(::Any, !Matched::Any, !Matched::Any) at /Users/kaitlinmaile/.julia/packages/Flux/NpkMm/src/optimise/optimisers.jl:59 got unsupported keyword arguments \"η\", \"ρ\"\n  ...",
      "",
      "Stacktrace:",
      " [1] top-level scope at In[9]:6"
     ]
    }
   ],
   "source": [
    "using Flux: crossentropy, Momentum\n",
    "\n",
    "loss(x, y) = sum(crossentropy(m(x), y))\n",
    "\n",
    "accuracy(x, y) = mean(onecold(m(x), 1:10) .== onecold(y, 1:10))\n",
    "\n",
    "w_opt = Momentum(params, η = 0.01; ρ = 0.9)\n",
    "α_opt = ADAMW(η = 3*10^-4, β = (0.5, 0.999), decay = 10^-3)\n"
   ]
  },
  {
   "cell_type": "code",
   "execution_count": 27,
   "metadata": {},
   "outputs": [
    {
     "data": {
      "text/plain": [
       "10×1000 Flux.OneHotMatrix{Array{Flux.OneHotVector,1}}:\n",
       " 0  0  0  0  1  0  1  0  0  0  0  0  0  …  0  0  0  0  1  0  1  0  0  0  0  0\n",
       " 0  0  0  0  0  0  0  0  0  0  0  0  0     0  1  0  0  0  1  0  0  0  0  1  1\n",
       " 0  0  0  0  0  0  0  0  1  0  0  0  0     0  0  0  1  0  0  0  1  0  0  0  0\n",
       " 0  0  0  0  0  0  0  0  0  1  0  0  0     0  0  0  0  0  0  0  0  0  0  0  0\n",
       " 0  0  1  0  0  0  0  0  0  0  0  0  0     0  0  1  0  0  0  0  0  0  0  0  0\n",
       " 0  0  0  0  0  1  0  0  0  0  0  0  0  …  1  0  0  0  0  0  0  0  0  0  0  0\n",
       " 0  0  0  0  0  0  0  0  0  0  0  0  0     0  0  0  0  0  0  0  0  1  0  0  0\n",
       " 0  0  0  0  0  0  0  0  0  0  1  0  0     0  0  0  0  0  0  0  0  0  0  0  0\n",
       " 1  0  0  0  0  0  0  1  0  0  0  1  0     0  0  0  0  0  0  0  0  0  0  0  0\n",
       " 0  1  0  1  0  0  0  0  0  0  0  0  1     0  0  0  0  0  0  0  0  0  1  0  0"
      ]
     },
     "execution_count": 27,
     "metadata": {},
     "output_type": "execute_result"
    }
   ],
   "source": [
    "Metalhead.download(CIFAR10)\n",
    "X = trainimgs(CIFAR10)\n",
    "labels = onehotbatch([X[i].ground_truth.class for i in 1:50000],1:10)\n",
    "\n",
    "image(x) = x.img # handy for use later\n",
    "ground_truth(x) = x.ground_truth\n",
    "image.(X[rand(1:end, 10)])\n",
    "\n",
    "getarray(X) = float.(permutedims(channelview(X), (2, 3, 1)))\n",
    "imgs = [getarray(X[i].img) for i in 1:50000]\n",
    "\n",
    "train = ([(cat(imgs[i]..., dims = 4), labels[:,i]) for i in partition(1:49000, 1000)]) #|> gpu\n",
    "valset = 49001:50000\n",
    "valX = cat(imgs[valset]..., dims = 4) #|> gpu\n",
    "valY = labels[:, valset] #|> gpu"
   ]
  },
  {
   "cell_type": "code",
   "execution_count": 10,
   "metadata": {},
   "outputs": [
    {
     "ename": "UndefVarError",
     "evalue": "UndefVarError: m not defined",
     "output_type": "error",
     "traceback": [
      "UndefVarError: m not defined",
      "",
      "Stacktrace:",
      " [1] top-level scope at In[10]:5"
     ]
    }
   ],
   "source": [
    "epochs = 10\n",
    "\n",
    "for epoch = 1:epochs\n",
    "    for d in train\n",
    "        gs = gradient(params(m)) do\n",
    "            l = loss(d...)\n",
    "        end\n",
    "        update!(opt, params(m), gs)\n",
    "    end\n",
    "    @show accuracy(valX, valY)\n",
    "end"
   ]
  },
  {
   "cell_type": "code",
   "execution_count": 11,
   "metadata": {},
   "outputs": [
    {
     "data": {
      "text/html": [
       "<table><tbody><tr><td style='text-align:center;vertical-align:middle; margin: 0.5em;border:1px #90999f solid;border-collapse:collapse'><img style='max-width: 100px; max-height:100px;display:inline' src=\"data:image/png;base64,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\"></td><td style='text-align:center;vertical-align:middle; margin: 0.5em;border:1px #90999f solid;border-collapse:collapse'><img style='max-width: 100px; max-height:100px;display:inline' src=\"data:image/png;base64,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\"></td><td style='text-align:center;vertical-align:middle; margin: 0.5em;border:1px #90999f solid;border-collapse:collapse'><img style='max-width: 100px; max-height:100px;display:inline' src=\"data:image/png;base64,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\"></td><td style='text-align:center;vertical-align:middle; margin: 0.5em;border:1px #90999f solid;border-collapse:collapse'><img style='max-width: 100px; max-height:100px;display:inline' src=\"data:image/png;base64,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\"></td><td style='text-align:center;vertical-align:middle; margin: 0.5em;border:1px #90999f solid;border-collapse:collapse'><img style='max-width: 100px; max-height:100px;display:inline' src=\"data:image/png;base64,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\"></td><td style='text-align:center;vertical-align:middle; margin: 0.5em;border:1px #90999f solid;border-collapse:collapse'><img style='max-width: 100px; max-height:100px;display:inline' src=\"data:image/png;base64,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\"></td><td style='text-align:center;vertical-align:middle; margin: 0.5em;border:1px #90999f solid;border-collapse:collapse'><img style='max-width: 100px; max-height:100px;display:inline' src=\"data:image/png;base64,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\"></td><td style='text-align:center;vertical-align:middle; margin: 0.5em;border:1px #90999f solid;border-collapse:collapse'><img style='max-width: 100px; max-height:100px;display:inline' src=\"data:image/png;base64,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\"></td><td style='text-align:center;vertical-align:middle; margin: 0.5em;border:1px #90999f solid;border-collapse:collapse'><img style='max-width: 100px; max-height:100px;display:inline' src=\"data:image/png;base64,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\"></td><td style='text-align:center;vertical-align:middle; margin: 0.5em;border:1px #90999f solid;border-collapse:collapse'><img style='max-width: 100px; max-height:100px;display:inline' src=\"data:image/png;base64,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\"></td></tr></tbody></table><div><small>(a vector displayed as a row to save space)</small></div>"
      ],
      "text/plain": [
       "10-element Array{Array{RGB{Normed{UInt8,8}},2},1}:\n",
       " [RGB{N0f8}(0.129,0.114,0.102) RGB{N0f8}(0.133,0.118,0.106) … RGB{N0f8}(0.745,0.714,0.702) RGB{N0f8}(0.965,0.953,0.949); RGB{N0f8}(0.176,0.161,0.149) RGB{N0f8}(0.176,0.161,0.149) … RGB{N0f8}(0.667,0.624,0.616) RGB{N0f8}(0.875,0.855,0.855); … ; RGB{N0f8}(0.706,0.706,0.706) RGB{N0f8}(0.51,0.51,0.51) … RGB{N0f8}(0.533,0.533,0.537) RGB{N0f8}(0.722,0.722,0.722); RGB{N0f8}(0.839,0.839,0.839) RGB{N0f8}(0.737,0.737,0.737) … RGB{N0f8}(0.722,0.722,0.722) RGB{N0f8}(0.831,0.831,0.831)]  \n",
       " [RGB{N0f8}(0.898,0.863,0.773) RGB{N0f8}(0.976,0.949,0.89) … RGB{N0f8}(0.894,0.871,0.753) RGB{N0f8}(0.933,0.906,0.788); RGB{N0f8}(0.706,0.678,0.612) RGB{N0f8}(0.957,0.925,0.882) … RGB{N0f8}(0.906,0.871,0.741) RGB{N0f8}(0.941,0.914,0.776); … ; RGB{N0f8}(0.498,0.518,0.529) RGB{N0f8}(0.467,0.478,0.494) … RGB{N0f8}(0.384,0.427,0.424) RGB{N0f8}(0.514,0.549,0.549); RGB{N0f8}(0.431,0.447,0.459) RGB{N0f8}(0.475,0.486,0.498) … RGB{N0f8}(0.435,0.478,0.486) RGB{N0f8}(0.463,0.506,0.506)]\n",
       " [RGB{N0f8}(0.627,0.604,0.557) RGB{N0f8}(0.667,0.643,0.58) … RGB{N0f8}(0.776,0.745,0.718) RGB{N0f8}(0.659,0.639,0.624); RGB{N0f8}(0.62,0.592,0.545) RGB{N0f8}(0.627,0.608,0.545) … RGB{N0f8}(0.69,0.667,0.639) RGB{N0f8}(0.537,0.525,0.51); … ; RGB{N0f8}(0.435,0.427,0.392) RGB{N0f8}(0.376,0.38,0.357) … RGB{N0f8}(0.745,0.722,0.667) RGB{N0f8}(0.635,0.612,0.553); RGB{N0f8}(0.682,0.671,0.627) RGB{N0f8}(0.475,0.471,0.439) … RGB{N0f8}(0.647,0.624,0.576) RGB{N0f8}(0.522,0.498,0.447)]    \n",
       " [RGB{N0f8}(0.235,0.22,0.208) RGB{N0f8}(0.224,0.212,0.196) … RGB{N0f8}(0.365,0.365,0.42) RGB{N0f8}(0.349,0.349,0.396); RGB{N0f8}(0.235,0.22,0.208) RGB{N0f8}(0.227,0.212,0.2) … RGB{N0f8}(0.259,0.259,0.282) RGB{N0f8}(0.259,0.255,0.275); … ; RGB{N0f8}(0.588,0.537,0.475) RGB{N0f8}(0.639,0.58,0.459) … RGB{N0f8}(0.4,0.4,0.412) RGB{N0f8}(0.373,0.369,0.376); RGB{N0f8}(0.384,0.373,0.408) RGB{N0f8}(0.439,0.416,0.412) … RGB{N0f8}(0.388,0.384,0.392) RGB{N0f8}(0.361,0.357,0.357)]         \n",
       " [RGB{N0f8}(0.478,0.475,0.396) RGB{N0f8}(0.365,0.38,0.298) … RGB{N0f8}(0.604,0.631,0.643) RGB{N0f8}(0.522,0.576,0.604); RGB{N0f8}(0.424,0.369,0.196) RGB{N0f8}(0.396,0.384,0.29) … RGB{N0f8}(0.345,0.365,0.337) RGB{N0f8}(0.243,0.278,0.243); … ; RGB{N0f8}(0.573,0.557,0.541) RGB{N0f8}(0.62,0.588,0.553) … RGB{N0f8}(0.176,0.192,0.216) RGB{N0f8}(0.208,0.227,0.251); RGB{N0f8}(0.596,0.569,0.545) RGB{N0f8}(0.604,0.573,0.537) … RGB{N0f8}(0.173,0.192,0.216) RGB{N0f8}(0.192,0.212,0.235)]  \n",
       " [RGB{N0f8}(0.129,0.102,0.09) RGB{N0f8}(0.122,0.094,0.082) … RGB{N0f8}(0.184,0.204,0.165) RGB{N0f8}(0.212,0.208,0.18); RGB{N0f8}(0.137,0.118,0.102) RGB{N0f8}(0.133,0.114,0.098) … RGB{N0f8}(0.2,0.22,0.18) RGB{N0f8}(0.227,0.231,0.196); … ; RGB{N0f8}(0.51,0.459,0.353) RGB{N0f8}(0.604,0.525,0.424) … RGB{N0f8}(0.463,0.447,0.337) RGB{N0f8}(0.439,0.424,0.322); RGB{N0f8}(0.576,0.498,0.404) RGB{N0f8}(0.663,0.561,0.471) … RGB{N0f8}(0.463,0.439,0.325) RGB{N0f8}(0.455,0.439,0.325)]      \n",
       " [RGB{N0f8}(0.757,0.804,0.929) RGB{N0f8}(0.788,0.824,0.929) … RGB{N0f8}(0.624,0.741,0.89) RGB{N0f8}(0.6,0.722,0.894); RGB{N0f8}(0.769,0.827,0.949) RGB{N0f8}(0.757,0.816,0.933) … RGB{N0f8}(0.686,0.776,0.914) RGB{N0f8}(0.647,0.749,0.91); … ; RGB{N0f8}(0.51,0.467,0.443) RGB{N0f8}(0.502,0.455,0.412) … RGB{N0f8}(0.431,0.435,0.4) RGB{N0f8}(0.443,0.443,0.408); RGB{N0f8}(0.533,0.502,0.486) RGB{N0f8}(0.525,0.486,0.455) … RGB{N0f8}(0.443,0.447,0.42) RGB{N0f8}(0.447,0.451,0.431)]       \n",
       " [RGB{N0f8}(0.992,1.0,1.0) RGB{N0f8}(0.988,1.0,1.0) … RGB{N0f8}(0.988,1.0,1.0) RGB{N0f8}(0.984,0.996,1.0); RGB{N0f8}(0.973,1.0,1.0) RGB{N0f8}(0.953,0.992,1.0) … RGB{N0f8}(0.973,0.988,0.996) RGB{N0f8}(0.969,0.984,0.988); … ; RGB{N0f8}(0.286,0.275,0.255) RGB{N0f8}(0.345,0.333,0.302) … RGB{N0f8}(0.373,0.349,0.282) RGB{N0f8}(0.349,0.322,0.271); RGB{N0f8}(0.314,0.302,0.278) RGB{N0f8}(0.322,0.314,0.275) … RGB{N0f8}(0.443,0.424,0.349) RGB{N0f8}(0.431,0.412,0.353)]                   \n",
       " [RGB{N0f8}(0.608,0.592,0.678) RGB{N0f8}(0.592,0.58,0.663) … RGB{N0f8}(0.082,0.071,0.067) RGB{N0f8}(0.063,0.059,0.063); RGB{N0f8}(0.588,0.573,0.678) RGB{N0f8}(0.576,0.561,0.667) … RGB{N0f8}(0.22,0.196,0.267) RGB{N0f8}(0.208,0.196,0.263); … ; RGB{N0f8}(0.047,0.047,0.051) RGB{N0f8}(0.153,0.149,0.18) … RGB{N0f8}(0.376,0.373,0.471) RGB{N0f8}(0.4,0.388,0.494); RGB{N0f8}(0.082,0.082,0.094) RGB{N0f8}(0.153,0.157,0.2) … RGB{N0f8}(0.51,0.514,0.631) RGB{N0f8}(0.498,0.486,0.624)]       \n",
       " [RGB{N0f8}(0.945,0.969,0.969) RGB{N0f8}(0.941,0.965,0.965) … RGB{N0f8}(0.949,0.973,0.965) RGB{N0f8}(0.949,0.973,0.965); RGB{N0f8}(0.957,0.98,0.98) RGB{N0f8}(0.949,0.973,0.973) … RGB{N0f8}(0.957,0.98,0.973) RGB{N0f8}(0.957,0.98,0.973); … ; RGB{N0f8}(0.961,0.984,0.992) RGB{N0f8}(0.953,0.976,0.98) … RGB{N0f8}(0.953,0.976,0.973) RGB{N0f8}(0.953,0.976,0.969); RGB{N0f8}(0.961,0.984,0.984) RGB{N0f8}(0.949,0.973,0.973) … RGB{N0f8}(0.941,0.965,0.957) RGB{N0f8}(0.941,0.965,0.957)]    "
      ]
     },
     "execution_count": 11,
     "metadata": {},
     "output_type": "execute_result"
    }
   ],
   "source": [
    "valset = valimgs(CIFAR10)\n",
    "valimg = [getarray(valset[i].img) for i in 1:10000]\n",
    "labels = onehotbatch([valset[i].ground_truth.class for i in 1:10000],1:10)\n",
    "test = gpu.([(cat(valimg[i]..., dims = 4), labels[:,i]) for i in partition(1:10000, 1000)])\n",
    "ids = rand(1:10000, 10)\n",
    "image.(valset[ids])"
   ]
  },
  {
   "cell_type": "code",
   "execution_count": 12,
   "metadata": {},
   "outputs": [
    {
     "ename": "UndefVarError",
     "evalue": "UndefVarError: m not defined",
     "output_type": "error",
     "traceback": [
      "UndefVarError: m not defined",
      "",
      "Stacktrace:",
      " [1] top-level scope at In[12]:4"
     ]
    }
   ],
   "source": [
    "rand_test = getarray.(image.(valset[ids]))\n",
    "rand_test = cat(rand_test..., dims = 4) |> gpu\n",
    "rand_truth = ground_truth.(valset[ids])\n",
    "m(rand_test)\n"
   ]
  },
  {
   "cell_type": "code",
   "execution_count": 13,
   "metadata": {},
   "outputs": [
    {
     "ename": "UndefVarError",
     "evalue": "UndefVarError: m not defined",
     "output_type": "error",
     "traceback": [
      "UndefVarError: m not defined",
      "",
      "Stacktrace:",
      " [1] accuracy(::Array{Float32,4}, ::Flux.OneHotMatrix{Array{Flux.OneHotVector,1}}) at ./In[9]:5",
      " [2] top-level scope at In[13]:1"
     ]
    }
   ],
   "source": [
    "accuracy(test[1]...)\n"
   ]
  },
  {
   "cell_type": "code",
   "execution_count": 14,
   "metadata": {},
   "outputs": [
    {
     "ename": "UndefVarError",
     "evalue": "UndefVarError: m not defined",
     "output_type": "error",
     "traceback": [
      "UndefVarError: m not defined",
      "",
      "Stacktrace:",
      " [1] top-level scope at ./In[14]:5"
     ]
    }
   ],
   "source": [
    "class_correct = zeros(10)\n",
    "class_total = zeros(10)\n",
    "for i in 1:10\n",
    "  preds = m(test[i][1])\n",
    "  lab = test[i][2]\n",
    "  for j = 1:1000\n",
    "    pred_class = findmax(preds[:, j])[2]\n",
    "    actual_class = findmax(lab[:, j])[2]\n",
    "    if pred_class == actual_class\n",
    "      class_correct[pred_class] += 1\n",
    "    end\n",
    "    class_total[actual_class] += 1\n",
    "  end\n",
    "end\n",
    "\n",
    "class_correct ./ class_total"
   ]
  },
  {
   "cell_type": "code",
   "execution_count": null,
   "metadata": {},
   "outputs": [],
   "source": []
  }
 ],
 "metadata": {
  "kernelspec": {
   "display_name": "Julia 1.3.0",
   "language": "julia",
   "name": "julia-1.3"
  },
  "language_info": {
   "file_extension": ".jl",
   "mimetype": "application/julia",
   "name": "julia",
   "version": "1.3.1"
  }
 },
 "nbformat": 4,
 "nbformat_minor": 2
}
