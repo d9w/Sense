{
 "cells": [
  {
   "cell_type": "code",
   "execution_count": 16,
   "metadata": {},
   "outputs": [],
   "source": [
    "\n",
    "using Statistics\n",
    "#using CuArrays\n",
    "using Random\n",
    "using Zygote\n",
    "using Flux, Flux.Optimise\n",
    "using Metalhead, Images\n",
    "using Metalhead: trainimgs\n",
    "using Images.ImageCore\n",
    "using Flux: onehotbatch, onecold\n",
    "using Base.Iterators: partition\n"
   ]
  },
  {
   "cell_type": "code",
   "execution_count": 34,
   "metadata": {
    "scrolled": true
   },
   "outputs": [
    {
     "data": {
      "text/plain": [
       "Zero (generic function with 1 method)"
      ]
     },
     "execution_count": 34,
     "metadata": {},
     "output_type": "execute_result"
    }
   ],
   "source": [
    "ReLUConvBN(C_in, C_out, kernel_size, stride, pad) = Chain(\n",
    "    relu,\n",
    "    Conv(kernel_size, C_in=>C_out, pad=(pad,pad), stride=(stride,stride)),\n",
    "    BatchNorm(C_out))\n",
    "\n",
    "FactorizedReduce(C_in, C_out, stride) = Chain(\n",
    "    relu,\n",
    "    Chain(x -> (Conv((1,1), C_in->C_out//stride, pad=(0,0), stride=(stride,stride))(x),\n",
    "            Conv((1,1), C_in->C_out//stride, pad=(0,0), stride=(stride,stride))(x[:,:,2:end,2:end])),\n",
    "         ((x1,x2)::Tuple) -> cat(x1,x2,dims=1)), #or dims=2?\n",
    "    BatchNorm(C_out))\n",
    "\n",
    "SepConv(C_in, C_out, kernel_size, stride, pad) = Chain(\n",
    "    relu,\n",
    "    DepthwiseConv(kernel_size, C_in=>C_in, stride=(stride,stride), pad=(pad,pad)), \n",
    "    Conv(kernel_size, C_in->C_in, pad=0),\n",
    "    BatchNorm(C_in),\n",
    "    relu,\n",
    "    DepthwiseConv(kernel_size, C_in=>C_in, pad=(pad,pad), stride=(stride,stride)), \n",
    "    Conv(kernel_size, C_in->C_out, pad=0),\n",
    "    BatchNorm(C_out))\n",
    "\n",
    "DilConv(C_in, C_out, kernel_size, stride, pad, dilation) = Chain(\n",
    "    relu,\n",
    "    DepthwiseConv(kernel_size, C_in=>C_in, pad=(pad,pad), stride=(stride,stride), dilation=dilation), \n",
    "    Conv(kernel_size, C_in->C_out, pad=0),\n",
    "    BatchNorm(C_out))\n",
    "\n",
    "Identity() = Chain(x -> x)\n",
    "Zero(stride) = Chain(x -> x[:,:,1:end:stride,1:end:stride]*0)\n"
   ]
  },
  {
   "cell_type": "code",
   "execution_count": 35,
   "metadata": {},
   "outputs": [
    {
     "data": {
      "text/plain": [
       "Dict{String,Function} with 5 entries:\n",
       "  \"conv_7x1_1x7\" => #207\n",
       "  \"none\"         => #199\n",
       "  \"avg_pool_3x3\" => #201\n",
       "  \"skip_connect\" => #205\n",
       "  \"max_pool_3x3\" => #203"
      ]
     },
     "execution_count": 35,
     "metadata": {},
     "output_type": "execute_result"
    }
   ],
   "source": [
    "PRIMITIVES = [\n",
    "    \"none\",\n",
    "    \"max_pool_3x3\",\n",
    "    \"avg_pool_3x3\",\n",
    "    \"skip_connect\",\n",
    "    #\"sep_conv_3x3\",\n",
    "    #\"sep_conv_5x5\",\n",
    "    #\"dil_conv_3x3\",\n",
    "    #\"dil_conv_5x5\"\n",
    "]\n",
    "\n",
    "\n",
    "\n",
    "OPS = Dict(\n",
    "  \"none\" => (C, stride, w) -> Chain(Zero(stride),x->w.*x),\n",
    "  \"avg_pool_3x3\" => (C, stride, w) -> Chain(MeanPool((3,3), stride=stride, pad=1), BatchNorm(C), x->w.*x),\n",
    "  \"max_pool_3x3\" => (C, stride, w) -> Chain(MaxPool((3,3), stride=stride, pad=1), BatchNorm(C), x->w.*x),\n",
    "  #\"skip_connect\" => (C, stride, w) -> Chain(stride == 1 ? Identity() : FactorizedReduce(C, C), x->w.*x),\n",
    "  \"skip_connect\" => (C, stride, w) -> Chain(FactorizedReduce(C, C, stride), x->w.*x),\n",
    "  #\"sep_conv_3x3\" => (C, stride)-> SepConv(C, C, 3, stride, 1),\n",
    "  #\"sep_conv_5x5\" => (C, stride)-> SepConv(C, C, 5, stride, 2),\n",
    "  #\"sep_conv_7x7\" => (C, stride)-> SepConv(C, C, 7, stride, 3),\n",
    "  #\"dil_conv_3x3\" => (C, stride)-> DilConv(C, C, 3, stride, 2, 2),\n",
    "  #\"dil_conv_5x5\" => (C, stride)-> DilConv(C, C, 5, stride, 4, 2),\n",
    "  \"conv_7x1_1x7\" => (C, stride, w) -> Chain(\n",
    "                                        relu,\n",
    "                                        Conv((1,7), C->C, pad=(0,3), stride=(1,stride)), \n",
    "                                        Conv((7,1), C->C, pad=(3,0), stride=(stride,1)),\n",
    "                                        BatchNorm(C_out),\n",
    "                                        x->w.*x)\n",
    "    )\n",
    "            \n"
   ]
  },
  {
   "cell_type": "code",
   "execution_count": 45,
   "metadata": {},
   "outputs": [
    {
     "name": "stdout",
     "output_type": "stream",
     "text": [
      "Params([[1, 2, 3, 4, 5, 6], Float32[0.0, 0.0, 0.0, 0.0, 0.0, 0.0, 0.0, 0.0, 0.0, 0.0, 0.0, 0.0, 0.0, 0.0, 0.0, 0.0], Float32[1.0, 1.0, 1.0, 1.0, 1.0, 1.0, 1.0, 1.0, 1.0, 1.0, 1.0, 1.0, 1.0, 1.0, 1.0, 1.0], Float32[0.0, 0.0, 0.0, 0.0, 0.0, 0.0, 0.0, 0.0, 0.0, 0.0, 0.0, 0.0, 0.0, 0.0, 0.0, 0.0], Float32[1.0, 1.0, 1.0, 1.0, 1.0, 1.0, 1.0, 1.0, 1.0, 1.0, 1.0, 1.0, 1.0, 1.0, 1.0, 1.0], Float32[0.0, 0.0, 0.0, 0.0, 0.0, 0.0, 0.0, 0.0, 0.0, 0.0, 0.0, 0.0, 0.0, 0.0, 0.0, 0.0], Float32[1.0, 1.0, 1.0, 1.0, 1.0, 1.0, 1.0, 1.0, 1.0, 1.0, 1.0, 1.0, 1.0, 1.0, 1.0, 1.0]])"
     ]
    }
   ],
   "source": [
    "struct MixedOp\n",
    "    weights\n",
    "    ops\n",
    "end\n",
    "\n",
    "function MixedOp(C, stride, weights)\n",
    "    ops = Any[]\n",
    "    for k in 1:length(PRIMITIVES)\n",
    "        op = OPS[PRIMITIVES[k]](C, stride, weights[k])\n",
    "        append!(ops, op)\n",
    "    end\n",
    "    MixedOp(weights, ops)\n",
    "end\n",
    "(m::MixedOp)(x) = m.weights'*[op(x) for op in m.ops]\n",
    "Flux.@functor MixedOp\n",
    "\n",
    "m = MixedOp(16,1,[1,2,3,4,5,6])\n",
    "print(params(m))\n"
   ]
  },
  {
   "cell_type": "code",
   "execution_count": 51,
   "metadata": {},
   "outputs": [
    {
     "ename": "MethodError",
     "evalue": "MethodError: no method matching Array{Function,N} where N()\nClosest candidates are:\n  Array{Function,N} where N(!Matched::UndefInitializer, !Matched::Int64) where T at boot.jl:418\n  Array{Function,N} where N(!Matched::UndefInitializer, !Matched::Int64, !Matched::Int64) where T at boot.jl:419\n  Array{Function,N} where N(!Matched::UndefInitializer, !Matched::Int64, !Matched::Int64, !Matched::Int64) where T at boot.jl:420\n  ...",
     "output_type": "error",
     "traceback": [
      "MethodError: no method matching Array{Function,N} where N()\nClosest candidates are:\n  Array{Function,N} where N(!Matched::UndefInitializer, !Matched::Int64) where T at boot.jl:418\n  Array{Function,N} where N(!Matched::UndefInitializer, !Matched::Int64, !Matched::Int64) where T at boot.jl:419\n  Array{Function,N} where N(!Matched::UndefInitializer, !Matched::Int64, !Matched::Int64, !Matched::Int64) where T at boot.jl:420\n  ...",
      "",
      "Stacktrace:",
      " [1] Cell(::Int64, ::Int64, ::Int64, ::Bool, ::Bool, ::Array{Int64,1}, ::Int64, ::Int64) at ./In[51]:8",
      " [2] Cell(::Int64, ::Int64, ::Int64, ::Bool, ::Bool, ::Array{Int64,1}) at ./In[51]:2",
      " [3] top-level scope at In[51]:26"
     ]
    }
   ],
   "source": [
    "function Cell(C_pp, C_p, C, red, red_p, weights, steps = 4, multiplier = 4) \n",
    "    if red_p\n",
    "        p0 = FactorizedReduce(C_pp,C)\n",
    "    else\n",
    "        p0 = ReLUConvBN(C_pp,C,(1,1),1,0)\n",
    "    end\n",
    "    p1 = ReLUConvBN(C_p,C,(1,1),1,0)\n",
    "    mixops = Array{Function}()\n",
    "    for i = 1:steps\n",
    "       for j = 1:2+i\n",
    "            red && j < 2 ? stride = 2 : stride = 1\n",
    "            mixop = MixedOp(C, stride, weights)\n",
    "            print(params(mixop))\n",
    "            append!(mixops, mixop)\n",
    "        end\n",
    "    end\n",
    "    states = [p0, p1]\n",
    "    offset = 0\n",
    "    for i = 1:steps\n",
    "        s = sum(mixops_[offset+j](states[j], weights[offset+j]) for j=1:length(states))\n",
    "        offset += length(states)\n",
    "        append!(states, s)\n",
    "    end\n",
    "    return cat(states[end-multiplier:end],dims=1)\n",
    "end\n",
    "print(Cell(16, 16, 16, false, false, [1,2,3,4,5,6]))"
   ]
  },
  {
   "cell_type": "code",
   "execution_count": 38,
   "metadata": {},
   "outputs": [
    {
     "ename": "LoadError",
     "evalue": "syntax: missing comma or ) in argument list",
     "output_type": "error",
     "traceback": [
      "syntax: missing comma or ) in argument list",
      ""
     ]
    }
   ],
   "source": [
    "function Network(C = 16, num_classes, layers = 8, auxiliary, genotype)\n",
    "    stem_mult = 3\n",
    "    C_c = C*stem_mult\n",
    "    stem = Chain(\n",
    "        Conv((3,3), 3=>C_c, pad=1),\n",
    "        BatchNorm(C_c)) \n",
    "    C_pp = C_c\n",
    "    C_p = C_c\n",
    "    C_c = C\n",
    "    red_p = 0\n",
    "    cells = []\n",
    "    for i = 1:layers\n",
    "        if i == layers//3 || i == 2*layers//3\n",
    "            C_c = C_c*2\n",
    "            red = 1\n",
    "        else\n",
    "            red = 0\n",
    "        end\n",
    "        cell = Cell(genotype, C_pp, C_p, C_c, red, red_p)\n",
    "        red_p = reduction\n",
    "        #model = cell(model)\n",
    "        C_pp = C_p\n",
    "        C_p = 4*C_c #4 is length of DARTS_V1 concat\n",
    "        if i == 2*layers//3\n",
    "            C_aux = C_p\n",
    "        end\n",
    "        push(cells, cell)\n",
    "    end\n",
    "\n",
    "    aux = Chain(\n",
    "        relu,\n",
    "        MeanPool((5,5), pad = 0, stride = 3),\n",
    "        Conv((1,1), C_aux=>128), #or (1,1)?\n",
    "        BatchNorm(128), #also check 2d here\n",
    "        relu,\n",
    "        Conv((2,2), 128=>768),\n",
    "        BatchNorm(768),\n",
    "        relu,\n",
    "        x -> reshape(x, size(x, 1), :)\n",
    "        Dense(768, num_classes),\n",
    "        softmax)\n",
    "    s0 = stem\n",
    "    s1 = stem\n",
    "    for i = 1:layers\n",
    "        st = s1\n",
    "        s1 = SkipConnection()\n",
    "        s0 = s1\n",
    "    end\n",
    "#end\n"
   ]
  },
  {
   "cell_type": "code",
   "execution_count": 22,
   "metadata": {},
   "outputs": [
    {
     "name": "stderr",
     "output_type": "stream",
     "text": [
      "┌ Warning: `param(x)` is deprecated, use `x` instead.\n",
      "│   caller = top-level scope at In[22]:5\n",
      "└ @ Core In[22]:5\n",
      "┌ Warning: `param(x)` is deprecated, use `x` instead.\n",
      "│   caller = top-level scope at In[22]:6\n",
      "└ @ Core In[22]:6\n"
     ]
    },
    {
     "data": {
      "text/plain": [
       "14×4 Array{Float64,2}:\n",
       " -0.000722227  -0.000623769   0.000142469   0.000548574\n",
       "  0.000470639  -6.96766e-5   -0.00032127    9.57262e-5 \n",
       "  0.000597141  -0.000769067   0.000276219   0.000731329\n",
       "  0.000481636   0.000725443  -0.000470443   0.000711677\n",
       " -0.000339899  -0.000848043  -0.000919577   0.000565256\n",
       "  0.000880698   0.000739601  -0.000607752  -0.000671886\n",
       " -5.23015e-5   -0.000723702  -0.000977345   0.000477733\n",
       " -0.000323132   0.000997715  -0.000106196   0.000889897\n",
       "  0.000443729  -0.000988573  -0.000489102   0.000776632\n",
       " -7.18831e-5    0.000445809  -0.000367893  -0.000793432\n",
       " -2.47717e-5   -0.00048531    0.00083523   -0.000518794\n",
       " -0.000844578  -0.000286635   0.000912285   0.000893687\n",
       " -0.00070854   -0.000668389   0.000898799  -0.000663671\n",
       "  0.00053621    0.000770745   0.000167796  -0.000149511"
      ]
     },
     "execution_count": 22,
     "metadata": {},
     "output_type": "execute_result"
    }
   ],
   "source": [
    "steps = 4\n",
    "k = floor(Int, steps^2/2+3*steps/2)\n",
    "num_ops = length(PRIMITIVES)\n",
    "α_normal = 2e-3*(rand(k,num_ops) .- 0.5)\n",
    "α_reduce = 2e-3*(rand(k,num_ops) .- 0.5)"
   ]
  },
  {
   "cell_type": "code",
   "execution_count": 23,
   "metadata": {},
   "outputs": [
    {
     "ename": "MethodError",
     "evalue": "MethodError: no method matching Momentum(::typeof(params); η=0.01, ρ=0.9)\nClosest candidates are:\n  Momentum(::Any) at /Users/kaitlinmaile/.julia/packages/Flux/NpkMm/src/optimise/optimisers.jl:64 got unsupported keyword arguments \"η\", \"ρ\"\n  Momentum(::Any, !Matched::Any) at /Users/kaitlinmaile/.julia/packages/Flux/NpkMm/src/optimise/optimisers.jl:64 got unsupported keyword arguments \"η\", \"ρ\"\n  Momentum(::Any, !Matched::Any, !Matched::Any) at /Users/kaitlinmaile/.julia/packages/Flux/NpkMm/src/optimise/optimisers.jl:59 got unsupported keyword arguments \"η\", \"ρ\"\n  ...",
     "output_type": "error",
     "traceback": [
      "MethodError: no method matching Momentum(::typeof(params); η=0.01, ρ=0.9)\nClosest candidates are:\n  Momentum(::Any) at /Users/kaitlinmaile/.julia/packages/Flux/NpkMm/src/optimise/optimisers.jl:64 got unsupported keyword arguments \"η\", \"ρ\"\n  Momentum(::Any, !Matched::Any) at /Users/kaitlinmaile/.julia/packages/Flux/NpkMm/src/optimise/optimisers.jl:64 got unsupported keyword arguments \"η\", \"ρ\"\n  Momentum(::Any, !Matched::Any, !Matched::Any) at /Users/kaitlinmaile/.julia/packages/Flux/NpkMm/src/optimise/optimisers.jl:59 got unsupported keyword arguments \"η\", \"ρ\"\n  ...",
      "",
      "Stacktrace:",
      " [1] top-level scope at In[23]:6"
     ]
    }
   ],
   "source": [
    "using Flux: crossentropy, Momentum\n",
    "\n",
    "loss(x, y) = sum(crossentropy(m(x), y))\n",
    "\n",
    "accuracy(x, y) = mean(onecold(m(x), 1:10) .== onecold(y, 1:10))\n",
    "\n",
    "w_opt = Momentum(params, η = 0.01; ρ = 0.9)\n",
    "α_opt = ADAMW(η = 3*10^-4, β = (0.5, 0.999), decay = 10^-3)\n"
   ]
  },
  {
   "cell_type": "code",
   "execution_count": 24,
   "metadata": {},
   "outputs": [
    {
     "data": {
      "text/plain": [
       "10×1000 Flux.OneHotMatrix{Array{Flux.OneHotVector,1}}:\n",
       " 0  0  0  0  1  0  1  0  0  0  0  0  0  …  0  0  0  0  1  0  1  0  0  0  0  0\n",
       " 0  0  0  0  0  0  0  0  0  0  0  0  0     0  1  0  0  0  1  0  0  0  0  1  1\n",
       " 0  0  0  0  0  0  0  0  1  0  0  0  0     0  0  0  1  0  0  0  1  0  0  0  0\n",
       " 0  0  0  0  0  0  0  0  0  1  0  0  0     0  0  0  0  0  0  0  0  0  0  0  0\n",
       " 0  0  1  0  0  0  0  0  0  0  0  0  0     0  0  1  0  0  0  0  0  0  0  0  0\n",
       " 0  0  0  0  0  1  0  0  0  0  0  0  0  …  1  0  0  0  0  0  0  0  0  0  0  0\n",
       " 0  0  0  0  0  0  0  0  0  0  0  0  0     0  0  0  0  0  0  0  0  1  0  0  0\n",
       " 0  0  0  0  0  0  0  0  0  0  1  0  0     0  0  0  0  0  0  0  0  0  0  0  0\n",
       " 1  0  0  0  0  0  0  1  0  0  0  1  0     0  0  0  0  0  0  0  0  0  0  0  0\n",
       " 0  1  0  1  0  0  0  0  0  0  0  0  1     0  0  0  0  0  0  0  0  0  1  0  0"
      ]
     },
     "execution_count": 24,
     "metadata": {},
     "output_type": "execute_result"
    }
   ],
   "source": [
    "Metalhead.download(CIFAR10)\n",
    "X = trainimgs(CIFAR10)\n",
    "labels = onehotbatch([X[i].ground_truth.class for i in 1:50000],1:10)\n",
    "\n",
    "image(x) = x.img # handy for use later\n",
    "ground_truth(x) = x.ground_truth\n",
    "image.(X[rand(1:end, 10)])\n",
    "\n",
    "getarray(X) = float.(permutedims(channelview(X), (2, 3, 1)))\n",
    "imgs = [getarray(X[i].img) for i in 1:50000]\n",
    "\n",
    "train = ([(cat(imgs[i]..., dims = 4), labels[:,i]) for i in partition(1:49000, 1000)]) #|> gpu\n",
    "valset = 49001:50000\n",
    "valX = cat(imgs[valset]..., dims = 4) #|> gpu\n",
    "valY = labels[:, valset] #|> gpu"
   ]
  },
  {
   "cell_type": "code",
   "execution_count": 25,
   "metadata": {},
   "outputs": [
    {
     "ename": "ErrorException",
     "evalue": "BatchNorm expected 16 channels, got 3",
     "output_type": "error",
     "traceback": [
      "BatchNorm expected 16 channels, got 3",
      "",
      "Stacktrace:",
      " [1] macro expansion at /Users/kaitlinmaile/.julia/packages/Zygote/WxNpH/src/compiler/interface2.jl:0 [inlined]",
      " [2] _pullback(::Zygote.Context, ::typeof(throw), ::ErrorException) at /Users/kaitlinmaile/.julia/packages/Zygote/WxNpH/src/compiler/interface2.jl:7",
      " [3] error at ./error.jl:33 [inlined]",
      " [4] _pullback(::Zygote.Context, ::typeof(error), ::String) at /Users/kaitlinmaile/.julia/packages/Zygote/WxNpH/src/compiler/interface2.jl:0",
      " [5] BatchNorm at /Users/kaitlinmaile/.julia/packages/Flux/NpkMm/src/layers/normalise.jl:174 [inlined]",
      " [6] _pullback(::Zygote.Context, ::BatchNorm{typeof(identity),Array{Float32,1},Array{Float32,1},Float32}, ::Array{Float32,4}) at /Users/kaitlinmaile/.julia/packages/Zygote/WxNpH/src/compiler/interface2.jl:0",
      " [7] #111 at ./none:0 [inlined]",
      " [8] (::Zygote.var\"#1177#1181\"{Zygote.Context,var\"#111#112\"{Array{Float32,4}}})(::BatchNorm{typeof(identity),Array{Float32,1},Array{Float32,1},Float32}) at /Users/kaitlinmaile/.julia/packages/Zygote/WxNpH/src/lib/array.jl:161",
      " [9] iterate at ./generator.jl:47 [inlined]",
      " [10] collect_to!(::Array{Tuple{Array{Float32,4},Zygote.Pullback},1}, ::Base.Generator{Array{Any,1},Zygote.var\"#1177#1181\"{Zygote.Context,var\"#111#112\"{Array{Float32,4}}}}, ::Int64, ::Int64) at ./array.jl:667",
      " [11] collect_to!(::Array{Tuple{Array{Float32,4},typeof(∂(λ))},1}, ::Base.Generator{Array{Any,1},Zygote.var\"#1177#1181\"{Zygote.Context,var\"#111#112\"{Array{Float32,4}}}}, ::Int64, ::Int64) at ./array.jl:675",
      " [12] collect_to_with_first!(::Array{Tuple{Array{Float32,4},typeof(∂(λ))},1}, ::Tuple{Array{Float32,4},typeof(∂(λ))}, ::Base.Generator{Array{Any,1},Zygote.var\"#1177#1181\"{Zygote.Context,var\"#111#112\"{Array{Float32,4}}}}, ::Int64) at ./array.jl:646",
      " [13] _collect(::Array{Any,1}, ::Base.Generator{Array{Any,1},Zygote.var\"#1177#1181\"{Zygote.Context,var\"#111#112\"{Array{Float32,4}}}}, ::Base.EltypeUnknown, ::Base.HasShape{1}) at ./array.jl:640",
      " [14] collect_similar(::Array{Any,1}, ::Base.Generator{Array{Any,1},Zygote.var\"#1177#1181\"{Zygote.Context,var\"#111#112\"{Array{Float32,4}}}}) at ./array.jl:564",
      " [15] map(::Function, ::Array{Any,1}) at ./abstractarray.jl:2073",
      " [16] ∇map(::Zygote.Context, ::Function, ::Array{Any,1}) at /Users/kaitlinmaile/.julia/packages/Zygote/WxNpH/src/lib/array.jl:161",
      " [17] _pullback(::Zygote.Context, ::typeof(collect), ::Base.Generator{Array{Any,1},var\"#111#112\"{Array{Float32,4}}}) at /Users/kaitlinmaile/.julia/packages/Zygote/WxNpH/src/lib/array.jl:180",
      " [18] MixedOp at ./In[19]:16 [inlined]",
      " [19] _pullback(::Zygote.Context, ::MixedOp, ::Array{Float32,4}) at /Users/kaitlinmaile/.julia/packages/Zygote/WxNpH/src/compiler/interface2.jl:0",
      " [20] loss at ./In[23]:3 [inlined]",
      " [21] _pullback(::Zygote.Context, ::typeof(loss), ::Array{Float32,4}, ::Flux.OneHotMatrix{Array{Flux.OneHotVector,1}}) at /Users/kaitlinmaile/.julia/packages/Zygote/WxNpH/src/compiler/interface2.jl:0",
      " [22] adjoint at /Users/kaitlinmaile/.julia/packages/Zygote/WxNpH/src/lib/lib.jl:156 [inlined]",
      " [23] _pullback at /Users/kaitlinmaile/.julia/packages/ZygoteRules/6nssF/src/adjoint.jl:47 [inlined]",
      " [24] #123 at ./In[25]:6 [inlined]",
      " [25] _pullback(::Zygote.Context, ::var\"#123#124\"{Tuple{Array{Float32,4},Flux.OneHotMatrix{Array{Flux.OneHotVector,1}}}}) at /Users/kaitlinmaile/.julia/packages/Zygote/WxNpH/src/compiler/interface2.jl:0",
      " [26] pullback(::Function, ::Params) at /Users/kaitlinmaile/.julia/packages/Zygote/WxNpH/src/compiler/interface.jl:103",
      " [27] gradient(::Function, ::Params) at /Users/kaitlinmaile/.julia/packages/Zygote/WxNpH/src/compiler/interface.jl:44",
      " [28] top-level scope at In[25]:5"
     ]
    }
   ],
   "source": [
    "epochs = 10\n",
    "\n",
    "for epoch = 1:epochs\n",
    "    for d in train\n",
    "        gs = gradient(params(m)) do\n",
    "            l = loss(d...)\n",
    "        end\n",
    "        update!(opt, params(m), gs)\n",
    "    end\n",
    "    @show accuracy(valX, valY)\n",
    "end"
   ]
  },
  {
   "cell_type": "code",
   "execution_count": 26,
   "metadata": {},
   "outputs": [
    {
     "data": {
      "text/html": [
       "<table><tbody><tr><td style='text-align:center;vertical-align:middle; margin: 0.5em;border:1px #90999f solid;border-collapse:collapse'><img style='max-width: 100px; max-height:100px;display:inline' src=\"data:image/png;base64,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\"></td><td style='text-align:center;vertical-align:middle; margin: 0.5em;border:1px #90999f solid;border-collapse:collapse'><img style='max-width: 100px; max-height:100px;display:inline' src=\"data:image/png;base64,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\"></td><td style='text-align:center;vertical-align:middle; margin: 0.5em;border:1px #90999f solid;border-collapse:collapse'><img style='max-width: 100px; max-height:100px;display:inline' src=\"data:image/png;base64,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\"></td><td style='text-align:center;vertical-align:middle; margin: 0.5em;border:1px #90999f solid;border-collapse:collapse'><img style='max-width: 100px; max-height:100px;display:inline' src=\"data:image/png;base64,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\"></td><td style='text-align:center;vertical-align:middle; margin: 0.5em;border:1px #90999f solid;border-collapse:collapse'><img style='max-width: 100px; max-height:100px;display:inline' src=\"data:image/png;base64,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\"></td><td style='text-align:center;vertical-align:middle; margin: 0.5em;border:1px #90999f solid;border-collapse:collapse'><img style='max-width: 100px; max-height:100px;display:inline' src=\"data:image/png;base64,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\"></td><td style='text-align:center;vertical-align:middle; margin: 0.5em;border:1px #90999f solid;border-collapse:collapse'><img style='max-width: 100px; max-height:100px;display:inline' src=\"data:image/png;base64,iVBORw0KGgoAAAANSUhEUgAAAIAAAACACAIAAABMXPacAAAAAXNSR0IArs4c6QAAAERlWElmTU0AKgAAAAgAAYdpAAQAAAABAAAAGgAAAAAAA6ABAAMAAAABAAEAAKACAAQAAAABAAAAgKADAAQAAAABAAAAgAAAAABIjgR3AAAOn0lEQVR4Ae1dW48cRxWu6uru2Z3ZWa/xrr1xnDjGCQkkRAGCIoGEuDzwD/gH+We88Qd4QUIgRSCEiLklws7FTmzjvXgvc5++0Y6y5/tqNe0MSab65awffLrmdJ3q70yfU3XOqRr79rsPzdmfzasz0kT1v7O/yqLdGtBnny/7f2XBWYL0KOdd4QZbQS5ajSkNXRFplhknuvSkLnPBz1JFEBwRXdGYSws8s/09EYFWaVIiJAKqgJBoL5ClClgASsim+HQ4EXmT2wdCu4itMVvsL2842W6WMJueuY7Ibi5jxmXANcEj4+6Zx1h8AsrjWOqCZZX0NY6o/4iYoiiWfid7HwtNt0qbEgERUAUEBHuRKFXAIlQCtsX50VTEnXywL7RNYbMM22XP0gq712rJDlqep4PdsD/wrHdUCFdVku8p4ZNKWpc4A35TgaeidYw/OOm+YWT4/GkUmXefjZ7dlOBySSp8kwP4Wn0DBJZ2CFVAO7iLVFWAQNEOEccxdOBS2FCbot2zof/nONkfNN8KW2nYMpMb4vl7j3zAnG7NSrqhwviJpXkIK/iE1xlRAmyTJBFpGKU0KRESAVVASLQXyFIFLAAlZFNtNGEhOdZPZrZmAc8yg2Nujok33WtNLh/FZDgL8gdRhO9Kz2F9MJvTOoCDMnQvdSlyghC8JmCBhCeeihmUDoaAKiAY1IsFqQIW4xKsNeb4taW8JdtctuNMc5ynrLOzZ3+Ryc5IL7fMc/w5BYN6DlY6iWdy7yzD3LlPa5S4BE9Ftj52+D6V5A8KdmhklyGVR1aLZycmo2kmPEyo/yZsDfkzjLi5f/1khQioAlYI7jJdqwKWQWmFPDHHWNgHkGllsh4KLCf7AK7b6bk5hhwhDl5RIniOqb/pOMRGnIF9TzPQz2zCHzwcg65sT2SVBcmlubaheBfHpiLyQ9LJEwKP6DUvc8H9M+33CQH6BiyD6gp5VAErBHeZrlUBy6C0Qp6Yaxmb5ZDNIpVZirlbCuL0S9jiSYF7KWpjOjFs9ziHrd/Oj2QY0WQo9PwRnMY8uSTtcXEidFkhHxCvb0h7ZuCHDI2Hyji9qT+5KunjaQSvmZ7Gt+gzgnPRx9q2agRUAatG+Av6VwV8AUCr/jim0IUvi+Ihnp+guIolYxlTHY4bH0pf0yHsu+tdlPb+ha7Q2fCx0NO994Se964JPUn7Qpdj1NW4Cp4lWoNvyDP4Hi/2QusSS89SeV5ARDUS1LvH4839eS3icQFcfQM8YMJfqALCY+5JVAV4cIS/iCkFUMdAYJs8W0btT3Zlnf2VFrSN1s6azcCBtifvS3tnhr1R2yXs+Oz0v8Jz+xA8vc0XpH0txVy+MvAlZWdLeCzV4EclchJenSgZb97b5bkAst2MA91ap8mBlQygJph/MYchb+nT3I/SgRBQExQI6CYxqoAmZAK1x45qbHhNwLaM27mw31rsLcgpTzuMEOfZsojh2P1/y2MdD78h9KCD+bvZfVnaJwP4ielD3Btt3xQed+EZ0AV8jyMfQMsVz89xPpmf18vlSu/nCAKlyR9wP37eBd5E34BzuIa+VAWERvycPFXAOUBCX9brAMxWyazV4RPoJiIeEyPmnj+6K+M9ev9PQrsMe49HE8zxk3wsPBe/822hsxs/ExpW3BiXwX8UQ+QJ7Aw5ADc6lXurDnLLJsa6wdE6pmiYv0snXydBgFoPT/UBXyfMX6kvfM2/Ujd685dFQBXwZZH7mu6DQa875HmrNy+m5GnpUJOTUCwoO/xQhlQMMX8fISRjZgVsuqV4fS/dkHvLOW5wHeQM4mRTeBLOA1MQJydfZWnMFdX/cP2SdFgT3lx+CT8BK17fTLae+/Ew9AqDcLe+AayFFmhVQAugs0hVAKPRAu35gEb5ZE8t2fFo+5tyy+53fyn04G+/FXo+wZx9NEZ++NPb/xSemzuvCJ1SbKekIE5B9aNVB/4gKhGP4rxuVSFXEZH9ZbvMNFZDdcajwQfAcvvb5nx+7kkeq5HQN6ARmjAfqALC4NwoRRXQCE2YD+qKTrJsNJ/luS3buJhM3Dxel1Gu33hL6OL+baEP9t8Rms/Pmd+/I+2fvPNrofu7L4HeQGSocIjtJFdeF57OxV2hvdwvny/kPaOwc6vxziYiH0Do1PN93Ms0uciaAUzUDTd7tL4BhGkbpCqgDdRJpiqAwGiDjBOyWY7iPJwP4PgG51Ed1fXPYaLN2vPX5VncB38RuhojT2By2MryCOdXnwwQ9+/tdORePsvo5BHiTtsv/VB4un34g9whL805jIpqSSuqE63iC9IPryEs8ZsIawvvXA3ynRWdWycd1gRB68Xc9A1glFqgVQEtgM4iVQGMRgt0TCH0en4Ku8yTVW6lZUDtPaA/3nMbb12VR0k2ULvpjgfSzrIKOvOnm0DC+hrWAZVD2Ko325d+Nvf/LHQ8QIwoi5Fj6HbgD4o5YkfHGcafXXxN+nE714Qu6BwLDyvKQ/DhEtYgX0JpCH5cD2eMQEQqERIBVUBItBfIUgUsACVkU31WRJM42OJGDgt752j/rVlHrWfURS1/Vd2TriKK7fCZcbsXYa+3tuA/Hu5jz/BuH/1f6WLv2P4YPmZI9Ugp7RnGysKY7PBYxnP40cdCX3r1J0KvPfeq0Nj9LE2fE40gnmf8/BrY6hvQAFGoZlVAKKQb5KgCGoAJ1VzvE4b9cnR+Z0T1lIZi63VUQ8bG6wD0Us+KO4irpH3Yca/GlH6j5soOAkmXrmAuP80Qe5lMUVO0dhn1QinlDAzVpA6OYWenc/iP6zvYl8DnY58+RA7DPcA65vJV1LDaGM8uIHxG8NNjzP76gPYzE7b6BvhIBr9SBQSH3BeoCvDxCH517qwI2C+O7aD1yb5W2Dv2H97ILeI2m5evy0fHffiG9Qg1oDefg80dUYx+7xD5A/7NSJfQ94bqUzGyuranwKhHGWbwWQlbPMtAF9yeY2xUmlQ/B0uQx/IJsu/MTa7W64WexO9Hr8IgoAoIg3OjFFVAIzRhPoCxPiePY9l10Yx8WvG+X8+aCUs9/YVe+9dQw7P9Pdj07iFqQ7d7iPsfHaF+1BSYy3P90nQGnskUPKPRSAaR5Vg3FEQfHKNWdTxCP5ZiWUmKvWaO9nblXg5ARDUSfM5Sk78EUo3d6AerREAVsEp0l+hbFbAESKtkqUs9YUNh6f0Zr7ffiua5Jd3Le6+4Ziam2P0zb2APQW/wLXmu8v7vhY7miNHzmXSTCebydx88Ev4iR1yoyPEEXL9UkA/bP0XOYHqKfcu8jyxJ4ZP4DCJvXk/PzhgyD6PIPoDXBPoGiCrbIVQB7eAuUlUBAkU7RH2yPnwAqHoq7xszGR3bMrpVPn9C8K2W7K+rK1HP/rKL8AH7R/fOms1s8qHQgxOsGx4PMGcfUazfzuED1jeRHzYj+IzxEPmAHOEfkxDNJZ0VGWl+XkfPwrF+74Fl9Hy6HjV+RgIhfQPOYxP4WhUQGPDz4lQB5xEJfB3TkXFNpqxxSGQq65p36JKWCnVNJOwdz5dz2lg1LJETPjiBrT8eUjzHwH8U67D1945g393jPRlrXiB/62gt0rmAuqP53ifgp/gS+zYvN14hT+B5Os6Z43Eb/agIrQmgxq1KB0NAFRAM6sWCVAGLcQnW6v+WJIl1ZLs9Y0YLBDJ3tS2DLr3YEZ01bagWqDzGvrAH/0KNv7v0soxic4t8QIFJ+9U3fyE8wwPEhQ4+Qo6hS7nla6//SPjTNfiG27/7jbSP9z4W+vQQY7tMZ124zrrwVPRcnKvgmJIhv+j5DPK2QE26ViIkAqqAkGgvkKUKWABKyKY6J4wIUER2zY97wG7y4PwcAGLx7DP4Nwa4/9nxA+nK0tlwL/70V9L++O67oB8iRrTx7A1p33z2ptDP3nxDaDKzxnW3pZ3HsHUD9aBH+58Kz93/3BL6wtUXhb722o+FzjguxHuJ2RdSbpyx8jGXLpVoAwE1QW2gTjJVAQRGG2RccHyDf4+3hE2PaC8YRy/4DAlw1zNe+j33iPYTcFyloPP9d175gTx7urkjdBUj1s/9mAwxmTJB/jYiW59b8JiCcr/U56Xrr4isgw//KnSXzqcb0rkU5YvfF54y7QjtyOFwPpz3W3g8VFulb4DA2A6hCmgHd5GqChAo2iHijRy5066BrXRzRHriCLH4iuxjwYF/qq8vOfFKdfo2RSmqNbDRKdX7Vyd3BYl+B9+PZAN7Czpz5AxKmoNXNP41LG/qaTcuCjpzYn0d65vd57C26F0FffrgIxlPMUNNEZ9f5OXVK8KK1licC+FsMZ5QxCgREgFVQEi0F8hSBSwAJWRTPLj1R5E3eO/vQhvaP7UWY85rKG7jnaVD+6qqDDY6p7WFo322Ee3prehAtekJYj4RnSOUjJH7nd/5g4zTdpBPjhPQls6iKFLsPXbdS3JvUqLuaGf3mrT3r74gtCO5SQkfkBRs6+EvDW0qKyn/wTmDevEl/esbIFC0Q6gC2sFdpKoCBIp2iDijM5yrCWxiRXP/OMF8ubsOf1BSjCjtot4mobVCRXusul3kVPn33CmUYvpbiAVZA5s+HyM/PM9x7pulsTkac4f8QUJ+KyJ/0+livj8YI69gaX/A8z34j7UNxKbYx2S01kkoNlVRPiCjHPvhEOfZ6RvQzhdfpKoCBIp2CFVAO7iL1PitN38uF0n3vtAZzVX7G7DdKdf4Ew+FPUxK64ZZjjkv5w+4doh9Q06xfmsx13b1Lx2c/Tn6veKMzjgqS8iiEJcxM6whEhr/aIBao+H46Kz7OnSEdkPnXpgp2osCsayM1jod3mNM9xbkA8pj1DLpGyCwt0OoAtrBXaSqAgSKdoj41q1/iOQP7twTmmt72P5ybD0je82/N5BSvjSjvbts3x3F5WOKEZWe8cZwOJbCv2nDOYmczoQouW4H7sOkCfwZP2NOv4VQUm7DHyfyGRX5G4zyye9x4jvtyAcw/2SK30AGN/eidDAEVAHBoF4sSBWwGJdgrf8DW2jqIhOk82kAAAAASUVORK5C\"></td><td style='text-align:center;vertical-align:middle; margin: 0.5em;border:1px #90999f solid;border-collapse:collapse'><img style='max-width: 100px; max-height:100px;display:inline' src=\"data:image/png;base64,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\"></td><td style='text-align:center;vertical-align:middle; margin: 0.5em;border:1px #90999f solid;border-collapse:collapse'><img style='max-width: 100px; max-height:100px;display:inline' src=\"data:image/png;base64,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\"></td><td style='text-align:center;vertical-align:middle; margin: 0.5em;border:1px #90999f solid;border-collapse:collapse'><img style='max-width: 100px; max-height:100px;display:inline' src=\"data:image/png;base64,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\"></td></tr></tbody></table><div><small>(a vector displayed as a row to save space)</small></div>"
      ],
      "text/plain": [
       "10-element Array{Array{RGB{Normed{UInt8,8}},2},1}:\n",
       " [RGB{N0f8}(0.302,0.302,0.302) RGB{N0f8}(0.31,0.31,0.31) … RGB{N0f8}(0.925,0.925,0.925) RGB{N0f8}(0.953,0.953,0.953); RGB{N0f8}(0.314,0.314,0.314) RGB{N0f8}(0.318,0.318,0.318) … RGB{N0f8}(0.835,0.835,0.835) RGB{N0f8}(0.933,0.933,0.933); … ; RGB{N0f8}(0.247,0.247,0.247) RGB{N0f8}(0.286,0.286,0.286) … RGB{N0f8}(0.271,0.271,0.271) RGB{N0f8}(0.22,0.22,0.22); RGB{N0f8}(0.278,0.278,0.278) RGB{N0f8}(0.278,0.278,0.278) … RGB{N0f8}(0.243,0.243,0.243) RGB{N0f8}(0.224,0.224,0.224)]   \n",
       " [RGB{N0f8}(0.584,0.533,0.384) RGB{N0f8}(0.373,0.337,0.235) … RGB{N0f8}(0.333,0.255,0.153) RGB{N0f8}(0.329,0.263,0.173); RGB{N0f8}(0.545,0.447,0.271) RGB{N0f8}(0.337,0.286,0.169) … RGB{N0f8}(0.329,0.259,0.161) RGB{N0f8}(0.333,0.267,0.169); … ; RGB{N0f8}(0.765,0.612,0.349) RGB{N0f8}(0.659,0.494,0.212) … RGB{N0f8}(0.537,0.439,0.2) RGB{N0f8}(0.678,0.533,0.255); RGB{N0f8}(0.749,0.624,0.365) RGB{N0f8}(0.604,0.451,0.18) … RGB{N0f8}(0.549,0.435,0.227) RGB{N0f8}(0.573,0.427,0.188)]\n",
       " [RGB{N0f8}(0.082,0.325,0.596) RGB{N0f8}(0.098,0.329,0.576) … RGB{N0f8}(0.09,0.318,0.6) RGB{N0f8}(0.082,0.322,0.608); RGB{N0f8}(0.075,0.329,0.612) RGB{N0f8}(0.067,0.329,0.604) … RGB{N0f8}(0.18,0.38,0.62) RGB{N0f8}(0.106,0.329,0.596); … ; RGB{N0f8}(0.157,0.169,0.153) RGB{N0f8}(0.157,0.165,0.153) … RGB{N0f8}(0.455,0.459,0.451) RGB{N0f8}(0.459,0.463,0.455); RGB{N0f8}(0.275,0.286,0.263) RGB{N0f8}(0.322,0.333,0.306) … RGB{N0f8}(0.502,0.498,0.482) RGB{N0f8}(0.514,0.51,0.494)]    \n",
       " [RGB{N0f8}(0.122,0.149,0.129) RGB{N0f8}(0.165,0.149,0.145) … RGB{N0f8}(0.102,0.133,0.118) RGB{N0f8}(0.098,0.129,0.11); RGB{N0f8}(0.204,0.227,0.204) RGB{N0f8}(0.278,0.231,0.22) … RGB{N0f8}(0.098,0.133,0.114) RGB{N0f8}(0.086,0.125,0.106); … ; RGB{N0f8}(0.114,0.114,0.149) RGB{N0f8}(0.384,0.353,0.341) … RGB{N0f8}(0.502,0.424,0.376) RGB{N0f8}(0.49,0.416,0.373); RGB{N0f8}(0.149,0.133,0.149) RGB{N0f8}(0.4,0.353,0.325) … RGB{N0f8}(0.749,0.635,0.573) RGB{N0f8}(0.706,0.608,0.541)]  \n",
       " [RGB{N0f8}(0.518,0.616,0.451) RGB{N0f8}(0.514,0.604,0.467) … RGB{N0f8}(0.447,0.561,0.306) RGB{N0f8}(0.631,0.753,0.494); RGB{N0f8}(0.451,0.541,0.361) RGB{N0f8}(0.471,0.553,0.416) … RGB{N0f8}(0.451,0.576,0.322) RGB{N0f8}(0.624,0.745,0.514); … ; RGB{N0f8}(0.4,0.318,0.322) RGB{N0f8}(0.373,0.298,0.298) … RGB{N0f8}(0.341,0.29,0.29) RGB{N0f8}(0.271,0.243,0.267); RGB{N0f8}(0.427,0.361,0.333) RGB{N0f8}(0.361,0.302,0.286) … RGB{N0f8}(0.325,0.282,0.286) RGB{N0f8}(0.267,0.243,0.275)] \n",
       " [RGB{N0f8}(0.149,0.075,0.059) RGB{N0f8}(0.137,0.067,0.051) … RGB{N0f8}(0.043,0.031,0.027) RGB{N0f8}(0.047,0.031,0.024); RGB{N0f8}(0.153,0.075,0.059) RGB{N0f8}(0.141,0.067,0.051) … RGB{N0f8}(0.051,0.039,0.031) RGB{N0f8}(0.055,0.035,0.027); … ; RGB{N0f8}(0.118,0.031,0.02) RGB{N0f8}(0.122,0.031,0.02) … RGB{N0f8}(0.082,0.047,0.031) RGB{N0f8}(0.078,0.043,0.031); RGB{N0f8}(0.086,0.027,0.024) RGB{N0f8}(0.09,0.027,0.024) … RGB{N0f8}(0.082,0.039,0.035) RGB{N0f8}(0.078,0.039,0.027)]\n",
       " [RGB{N0f8}(0.396,0.816,0.906) RGB{N0f8}(0.4,0.8,0.902) … RGB{N0f8}(0.396,0.824,0.914) RGB{N0f8}(0.376,0.741,0.827); RGB{N0f8}(0.341,0.769,0.871) RGB{N0f8}(0.306,0.624,0.792) … RGB{N0f8}(0.329,0.647,0.812) RGB{N0f8}(0.294,0.561,0.686); … ; RGB{N0f8}(0.624,0.663,0.682) RGB{N0f8}(0.427,0.498,0.576) … RGB{N0f8}(0.486,0.561,0.671) RGB{N0f8}(0.42,0.486,0.576); RGB{N0f8}(0.439,0.478,0.506) RGB{N0f8}(0.29,0.337,0.388) … RGB{N0f8}(0.298,0.329,0.404) RGB{N0f8}(0.263,0.298,0.349)]   \n",
       " [RGB{N0f8}(0.631,0.651,0.439) RGB{N0f8}(0.616,0.631,0.424) … RGB{N0f8}(0.471,0.506,0.325) RGB{N0f8}(0.459,0.49,0.322); RGB{N0f8}(0.627,0.659,0.4) RGB{N0f8}(0.596,0.627,0.369) … RGB{N0f8}(0.467,0.506,0.286) RGB{N0f8}(0.443,0.486,0.278); … ; RGB{N0f8}(1.0,1.0,1.0) RGB{N0f8}(0.976,0.976,0.976) … RGB{N0f8}(0.839,0.824,0.816) RGB{N0f8}(0.839,0.82,0.808); RGB{N0f8}(0.976,0.976,0.976) RGB{N0f8}(0.953,0.953,0.953) … RGB{N0f8}(0.804,0.796,0.788) RGB{N0f8}(0.784,0.773,0.761)]       \n",
       " [RGB{N0f8}(0.467,0.435,0.451) RGB{N0f8}(0.459,0.396,0.349) … RGB{N0f8}(0.443,0.431,0.412) RGB{N0f8}(0.451,0.427,0.416); RGB{N0f8}(0.482,0.455,0.443) RGB{N0f8}(0.447,0.392,0.325) … RGB{N0f8}(0.451,0.439,0.42) RGB{N0f8}(0.463,0.447,0.427); … ; RGB{N0f8}(0.302,0.392,0.267) RGB{N0f8}(0.302,0.38,0.251) … RGB{N0f8}(0.231,0.259,0.137) RGB{N0f8}(0.259,0.298,0.161); RGB{N0f8}(0.329,0.435,0.255) RGB{N0f8}(0.329,0.431,0.255) … RGB{N0f8}(0.298,0.361,0.22) RGB{N0f8}(0.31,0.376,0.227)] \n",
       " [RGB{N0f8}(0.941,0.941,0.941) RGB{N0f8}(0.906,0.906,0.906) … RGB{N0f8}(0.945,0.945,0.945) RGB{N0f8}(0.98,0.98,0.98); RGB{N0f8}(0.831,0.831,0.831) RGB{N0f8}(0.8,0.8,0.8) … RGB{N0f8}(0.933,0.933,0.933) RGB{N0f8}(0.984,0.984,0.984); … ; RGB{N0f8}(0.824,0.824,0.824) RGB{N0f8}(0.757,0.757,0.757) … RGB{N0f8}(0.914,0.914,0.914) RGB{N0f8}(0.953,0.953,0.953); RGB{N0f8}(0.843,0.843,0.843) RGB{N0f8}(0.765,0.765,0.765) … RGB{N0f8}(0.906,0.906,0.906) RGB{N0f8}(0.941,0.941,0.941)]      "
      ]
     },
     "execution_count": 26,
     "metadata": {},
     "output_type": "execute_result"
    }
   ],
   "source": [
    "valset = valimgs(CIFAR10)\n",
    "valimg = [getarray(valset[i].img) for i in 1:10000]\n",
    "labels = onehotbatch([valset[i].ground_truth.class for i in 1:10000],1:10)\n",
    "test = gpu.([(cat(valimg[i]..., dims = 4), labels[:,i]) for i in partition(1:10000, 1000)])\n",
    "ids = rand(1:10000, 10)\n",
    "image.(valset[ids])"
   ]
  },
  {
   "cell_type": "code",
   "execution_count": 27,
   "metadata": {},
   "outputs": [
    {
     "ename": "ErrorException",
     "evalue": "BatchNorm expected 16 channels, got 3",
     "output_type": "error",
     "traceback": [
      "BatchNorm expected 16 channels, got 3",
      "",
      "Stacktrace:",
      " [1] error(::String) at ./error.jl:33",
      " [2] (::BatchNorm{typeof(identity),Array{Float32,1},Array{Float32,1},Float32})(::Array{Float32,4}) at /Users/kaitlinmaile/.julia/packages/Flux/NpkMm/src/layers/normalise.jl:174",
      " [3] (::var\"#111#112\"{Array{Float32,4}})(::BatchNorm{typeof(identity),Array{Float32,1},Array{Float32,1},Float32}) at ./none:0",
      " [4] iterate at ./generator.jl:47 [inlined]",
      " [5] collect_to!(::Array{Array{Float32,4},1}, ::Base.Generator{Array{Any,1},var\"#111#112\"{Array{Float32,4}}}, ::Int64, ::Int64) at ./array.jl:667",
      " [6] collect_to_with_first!(::Array{Array{Float32,4},1}, ::Array{Float32,4}, ::Base.Generator{Array{Any,1},var\"#111#112\"{Array{Float32,4}}}, ::Int64) at ./array.jl:646",
      " [7] collect(::Base.Generator{Array{Any,1},var\"#111#112\"{Array{Float32,4}}}) at ./array.jl:627",
      " [8] (::MixedOp)(::Array{Float32,4}) at ./In[19]:16",
      " [9] top-level scope at In[27]:4"
     ]
    }
   ],
   "source": [
    "rand_test = getarray.(image.(valset[ids]))\n",
    "rand_test = cat(rand_test..., dims = 4) |> gpu\n",
    "rand_truth = ground_truth.(valset[ids])\n",
    "m(rand_test)\n"
   ]
  },
  {
   "cell_type": "code",
   "execution_count": 28,
   "metadata": {},
   "outputs": [
    {
     "ename": "ErrorException",
     "evalue": "BatchNorm expected 16 channels, got 3",
     "output_type": "error",
     "traceback": [
      "BatchNorm expected 16 channels, got 3",
      "",
      "Stacktrace:",
      " [1] error(::String) at ./error.jl:33",
      " [2] (::BatchNorm{typeof(identity),Array{Float32,1},Array{Float32,1},Float32})(::Array{Float32,4}) at /Users/kaitlinmaile/.julia/packages/Flux/NpkMm/src/layers/normalise.jl:174",
      " [3] (::var\"#111#112\"{Array{Float32,4}})(::BatchNorm{typeof(identity),Array{Float32,1},Array{Float32,1},Float32}) at ./none:0",
      " [4] iterate at ./generator.jl:47 [inlined]",
      " [5] collect_to!(::Array{Array{Float32,4},1}, ::Base.Generator{Array{Any,1},var\"#111#112\"{Array{Float32,4}}}, ::Int64, ::Int64) at ./array.jl:667",
      " [6] collect_to_with_first!(::Array{Array{Float32,4},1}, ::Array{Float32,4}, ::Base.Generator{Array{Any,1},var\"#111#112\"{Array{Float32,4}}}, ::Int64) at ./array.jl:646",
      " [7] collect(::Base.Generator{Array{Any,1},var\"#111#112\"{Array{Float32,4}}}) at ./array.jl:627",
      " [8] (::MixedOp)(::Array{Float32,4}) at ./In[19]:16",
      " [9] accuracy(::Array{Float32,4}, ::Flux.OneHotMatrix{Array{Flux.OneHotVector,1}}) at ./In[23]:5",
      " [10] top-level scope at In[28]:1"
     ]
    }
   ],
   "source": [
    "accuracy(test[1]...)\n"
   ]
  },
  {
   "cell_type": "code",
   "execution_count": 29,
   "metadata": {},
   "outputs": [
    {
     "ename": "ErrorException",
     "evalue": "BatchNorm expected 16 channels, got 3",
     "output_type": "error",
     "traceback": [
      "BatchNorm expected 16 channels, got 3",
      "",
      "Stacktrace:",
      " [1] error(::String) at ./error.jl:33",
      " [2] (::BatchNorm{typeof(identity),Array{Float32,1},Array{Float32,1},Float32})(::Array{Float32,4}) at /Users/kaitlinmaile/.julia/packages/Flux/NpkMm/src/layers/normalise.jl:174",
      " [3] (::var\"#111#112\"{Array{Float32,4}})(::BatchNorm{typeof(identity),Array{Float32,1},Array{Float32,1},Float32}) at ./none:0",
      " [4] iterate at ./generator.jl:47 [inlined]",
      " [5] collect_to!(::Array{Array{Float32,4},1}, ::Base.Generator{Array{Any,1},var\"#111#112\"{Array{Float32,4}}}, ::Int64, ::Int64) at ./array.jl:667",
      " [6] collect_to_with_first!(::Array{Array{Float32,4},1}, ::Array{Float32,4}, ::Base.Generator{Array{Any,1},var\"#111#112\"{Array{Float32,4}}}, ::Int64) at ./array.jl:646",
      " [7] collect(::Base.Generator{Array{Any,1},var\"#111#112\"{Array{Float32,4}}}) at ./array.jl:627",
      " [8] (::MixedOp)(::Array{Float32,4}) at ./In[19]:16",
      " [9] top-level scope at ./In[29]:4"
     ]
    }
   ],
   "source": [
    "class_correct = zeros(10)\n",
    "class_total = zeros(10)\n",
    "for i in 1:10\n",
    "  preds = m(test[i][1])\n",
    "  lab = test[i][2]\n",
    "  for j = 1:1000\n",
    "    pred_class = findmax(preds[:, j])[2]\n",
    "    actual_class = findmax(lab[:, j])[2]\n",
    "    if pred_class == actual_class\n",
    "      class_correct[pred_class] += 1\n",
    "    end\n",
    "    class_total[actual_class] += 1\n",
    "  end\n",
    "end\n",
    "\n",
    "class_correct ./ class_total"
   ]
  },
  {
   "cell_type": "code",
   "execution_count": null,
   "metadata": {},
   "outputs": [],
   "source": []
  }
 ],
 "metadata": {
  "kernelspec": {
   "display_name": "Julia 1.3.0",
   "language": "julia",
   "name": "julia-1.3"
  },
  "language_info": {
   "file_extension": ".jl",
   "mimetype": "application/julia",
   "name": "julia",
   "version": "1.3.1"
  }
 },
 "nbformat": 4,
 "nbformat_minor": 2
}
